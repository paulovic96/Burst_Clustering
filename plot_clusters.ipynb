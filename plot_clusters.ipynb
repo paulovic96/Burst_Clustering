{
 "cells": [
  {
   "cell_type": "code",
   "execution_count": 1,
   "metadata": {},
   "outputs": [
    {
     "name": "stderr",
     "output_type": "stream",
     "text": [
      "/Users/paule/anaconda3/envs/bon17/lib/python3.7/site-packages/sklearn/utils/deprecation.py:144: FutureWarning: The sklearn.neighbors.nearest_centroid module is  deprecated in version 0.22 and will be removed in version 0.24. The corresponding classes / functions should instead be imported from sklearn.neighbors. Anything that cannot be imported from sklearn.neighbors is now part of the private API.\n",
      "  warnings.warn(message, FutureWarning)\n"
     ]
    }
   ],
   "source": [
    "import os\n",
    "import numpy as np\n",
    "import matplotlib.pyplot as plt\n",
    "import pandas as pd\n",
    "from asymmetric_laplacian_distribution import generate_ALF_data, get_index_per_class, get_labels, labels_to_layout_mapping\n",
    "import functions_for_plotting \n",
    "from prediction_strength import get_statistic_score_per_k\n",
    "from training_set_split import get_training_folds\n",
    "from spectral_clustering import spectral_clustering\n",
    "import prediction_strength\n",
    "from matplotlib.legend import Legend\n",
    "import wagenaar_dataset"
   ]
  },
  {
   "cell_type": "markdown",
   "metadata": {},
   "source": [
    "# Data\n",
    "- load dataset\n",
    "- load culture dict specifiying for each culture start and end point with respect to the dataset for indexing"
   ]
  },
  {
   "cell_type": "code",
   "execution_count": 10,
   "metadata": {},
   "outputs": [],
   "source": [
    "data_dir = \"data/raw_data/daily_spontanous_dense/day20/\"\n",
    "data = np.load(data_dir + \"data_burst_by_time_day_20.npy\").T\n",
    "culture_dict = np.load(data_dir + \"culture_dict_day_20.npy\",allow_pickle=True).item()"
   ]
  },
  {
   "cell_type": "markdown",
   "metadata": {},
   "source": [
    "## Specify Data Splitting\n",
    "split styles: \n",
    "- 'balanced' with respect to cultures (5 fold random split for each culture) --> culture_dict must be provided\n",
    "- 'random' 5 fold random split --> no culture_dict needed"
   ]
  },
  {
   "cell_type": "code",
   "execution_count": null,
   "metadata": {},
   "outputs": [],
   "source": [
    "split_style = \"balanced\"\n",
    "folds = 5"
   ]
  },
  {
   "cell_type": "code",
   "execution_count": 18,
   "metadata": {},
   "outputs": [],
   "source": [
    "train_fold_indices, valid_fold_indices = training_set_split.get_training_folds(data,culture_dict,cluster_split = split_style,folds = folds)"
   ]
  },
  {
   "cell_type": "markdown",
   "metadata": {},
   "source": [
    "# Labels"
   ]
  },
  {
   "cell_type": "code",
   "execution_count": 5,
   "metadata": {},
   "outputs": [],
   "source": [
    "labels_total = np.load(\"labels_day20_Euclidean_k=10_reg=None_100clusters.npy\")"
   ]
  },
  {
   "cell_type": "code",
   "execution_count": 7,
   "metadata": {},
   "outputs": [],
   "source": [
    "labels_four_fifth = np.load(\"labels_day20_Euclidean_k=10_reg=None_5_fold_random_train_100clusters.npy\", allow_pickle = True)\n",
    "labels_one_fifth = np.load(\"labels_day20_Euclidean_k=10_reg=None_5_fold_random_train_100clusters.npy\", allow_pickle = True) "
   ]
  },
  {
   "cell_type": "code",
   "execution_count": 8,
   "metadata": {},
   "outputs": [],
   "source": [
    "clustered_labels_total = {}\n",
    "clustered_labels_four_fifth = {}\n",
    "clustered_labels_one_fifth_centroid_predicted = {}\n",
    "\n",
    "for i in range(len(labels_total)):\n",
    "    clustered_labels_total[i+1] = np.asarray(labels_total)[i]\n",
    "    clustered_labels_one_fifth_in_total[i+1] = np.asarray(labels_one_fifth_in_total)[:,i]\n",
    "    clustered_labels_four_fifth[i+1] = np.asarray(labels_four_fifth)[:,i]"
   ]
  },
  {
   "cell_type": "markdown",
   "metadata": {},
   "source": [
    "# Clusterwise F1-Score for validated clusters "
   ]
  },
  {
   "cell_type": "code",
   "execution_count": null,
   "metadata": {},
   "outputs": [],
   "source": [
    "F1_scores = np.load(\"F1_day20_Euclidean_k=10_reg=None_5_fold_random_train_100clusters_jackknife_one_fifth_centroid_vs_total_clusterwise.npy\",allow_pickle=True).item()"
   ]
  },
  {
   "cell_type": "markdown",
   "metadata": {},
   "source": [
    "# Plot Clusters "
   ]
  },
  {
   "cell_type": "code",
   "execution_count": 9,
   "metadata": {},
   "outputs": [],
   "source": [
    "save_file_clusters = \"test.pdf\" # file to store plot\n",
    "k_clusters = 10 # number of clusters to plot with corresponding labeling \n",
    "reference_clusters = 10 # in order to compare to another clustering of same data, if not equal to k_clusters \n",
    "title = \"\" # title of the plot"
   ]
  },
  {
   "cell_type": "code",
   "execution_count": 10,
   "metadata": {},
   "outputs": [],
   "source": [
    "# Layout\n",
    "rows = 3 \n",
    "columns = 4\n",
    "\n",
    "# Figure parameter\n",
    "figsize = (20,20)\n",
    "subplot_adjustments = [0.05,0.95,0.03,0.9,0.4, 0.15] #spacing between subplots and borders\n",
    "# left, right, bottom, top, hspace, wspace"
   ]
  },
  {
   "cell_type": "code",
   "execution_count": null,
   "metadata": {},
   "outputs": [],
   "source": [
    "# Validation \n",
    "functions_for_plotting.plot_clusters(data[valid_fold_indices[0]], # the dataset \n",
    "                                     clustered_labels_one_fifth_in_total[k_clusters][0], # the reference labels for the dataset (if not wanted equal to clustered labels)\n",
    "                                     clustered_labels_one_fifth_in_total[k_clusters][0],  # the clustered labels \n",
    "                                     rows, # the number of rows in the grid \n",
    "                                     columns, # the number of columns in the grid \n",
    "                                     None, # layout mapping specifing the position of each plot \n",
    "                                     figsize=figsize, # the figsize\n",
    "                                     reference_clustering=\"F1-Score\", # show F1-score for each cluster\n",
    "                                     scores = F1_scores[k_clusters][0],\n",
    "                                     n_bursts = 100, # the number of bursts you want to plot for each cluster \n",
    "                                     y_lim = (0,16), # the y_lim for zoomed plot (0,1) normal (0,16)\n",
    "                                     save_file=save_file_clusters, # the file you want to save the plot \n",
    "                                     subplot_adjustments= subplot_adjustments, # adjustments for suplots and overall spacing (tricky) \n",
    "                                     plot_mean=False, # plot the mean of each cluster ? \n",
    "                                     title= title )# title of the plot     "
   ]
  },
  {
   "cell_type": "code",
   "execution_count": null,
   "metadata": {},
   "outputs": [],
   "source": [
    "# training\n",
    "functions_for_plotting.plot_clusters(data[train_fold_indices[0]], # the dataset \n",
    "                                     clustered_labels_four_fifth[k_clusters][0], # the reference labels for the dataset (if not wanted equal to clustered labels)\n",
    "                                     clustered_labels_four_fifth[k_clusters][0],  # the clustered labels \n",
    "                                     rows, # the number of rows in the grid \n",
    "                                     columns, # the number of columns in the grid \n",
    "                                     None, # layout mapping specifing the position of each plot \n",
    "                                     figsize=figsize, # the figsize\n",
    "                                     reference_clustering=\"True\", # show the \"true\"-reference cluster\n",
    "                                     scores = None, \n",
    "                                     n_bursts = 100, # the number of bursts you want to plot for each cluster \n",
    "                                     y_lim = (0,16), # the y_lim for zoomed plot (0,1) normal (0,16)\n",
    "                                     save_file=save_file_clusters, # the file you want to save the plot \n",
    "                                     subplot_adjustments= subplot_adjustments, # adjustments for suplots and overall spacing (tricky) \n",
    "                                     plot_mean=False, # plot the mean of each cluster ? \n",
    "                                     title= title)# title of the plot "
   ]
  }
 ],
 "metadata": {
  "kernelspec": {
   "display_name": "Python 3",
   "language": "python",
   "name": "python3"
  },
  "language_info": {
   "codemirror_mode": {
    "name": "ipython",
    "version": 3
   },
   "file_extension": ".py",
   "mimetype": "text/x-python",
   "name": "python",
   "nbconvert_exporter": "python",
   "pygments_lexer": "ipython3",
   "version": "3.7.7"
  }
 },
 "nbformat": 4,
 "nbformat_minor": 4
}
