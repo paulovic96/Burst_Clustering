{
 "cells": [
  {
   "cell_type": "code",
   "execution_count": 1,
   "metadata": {},
   "outputs": [
    {
     "name": "stderr",
     "output_type": "stream",
     "text": [
      "/Users/paule/anaconda3/envs/bon17/lib/python3.7/site-packages/sklearn/utils/deprecation.py:144: FutureWarning: The sklearn.neighbors.nearest_centroid module is  deprecated in version 0.22 and will be removed in version 0.24. The corresponding classes / functions should instead be imported from sklearn.neighbors. Anything that cannot be imported from sklearn.neighbors is now part of the private API.\n",
      "  warnings.warn(message, FutureWarning)\n"
     ]
    }
   ],
   "source": [
    "import numpy as np\n",
    "from spectral_clustering import spectral_clustering\n",
    "import functions_for_plotting\n",
    "from asymmetric_laplacian_distribution import get_index_per_class, get_labels, labels_to_layout_mapping\n",
    "from sklearn.cluster import KMeans\n",
    "import training_set_split\n",
    "import seaborn as sns\n",
    "import prediction_strength\n",
    "import importlib\n",
    "import matplotlib.pyplot as plt"
   ]
  },
  {
   "cell_type": "markdown",
   "metadata": {},
   "source": [
    "# Load Data and True Labels"
   ]
  },
  {
   "cell_type": "code",
   "execution_count": 2,
   "metadata": {},
   "outputs": [],
   "source": [
    "#----------------------------------------------- DATA ------------------------------------------------------------------\n",
    "data_dir = \"data/\"\n",
    "\n",
    "clear_data = np.load(data_dir + \"clearly_separated_data_F_signal_noise.npy\")\n",
    "ambig_data = np.load(data_dir + \"ambiguous_data_tau_amplitude_F_signal_noise.npy\")\n",
    "#np.load(data_dir + \"ambiguous_data_tau_amplitude_F_signal_noise.npy\") #np.load(data_dir + \"clearly_separated_data_F_signal_noise.npy\")\n",
    "\n",
    "clear_amplitude_conditions = [\"S\", \"M\", \"L\"]  #[\"S\", \"S/M\", \"M\", \"M/L\", \"L\"] #[\"S\", \"M\", \"L\"]\n",
    "ambig_amplitude_conditions = [\"S\", \"S/M\", \"M\", \"M/L\", \"L\"]\n",
    "\n",
    "clear_time_constant_conditions = [\"equal_sharp\", \"equal_wide\", \"wide_sharp_negative_skew\", \"sharp_wide_positive_skew\"]\n",
    "ambig_time_constant_conditions = [\"equal_sharp\", \"equal_medium\", \"equal_wide\", \"wide_sharp_negative_skew\", \"wide_medium_negative_skew\",\"medium_sharp_negative_skew\",\"sharp_wide_positive_skew\", \"medium_wide_positive_skew\" ,\"sharp_medium_positive_skew\"]\n",
    "\n",
    "#[\"equal_sharp\", \"equal_medium\", \"equal_wide\", \"wide_sharp_negative_skew\", \"wide_medium_negative_skew\",\"medium_sharp_negative_skew\",\"sharp_wide_positive_skew\", \"medium_wide_positive_skew\" ,\"sharp_medium_positive_skew\"]\n",
    "#[\"equal_sharp\", \"equal_wide\", \"wide_sharp_negative_skew\", \"sharp_wide_positive_skew\"]\n",
    "\n",
    "ambiguous_conditions = [\"S/M\", \"M/L\", \"equal_medium\", \"wide_medium_negative_skew\", \"medium_sharp_negative_skew\", \"medium_wide_positive_skew\", \"sharp_medium_positive_skew\"]\n",
    "\n",
    "samples_per_condition = 1000\n",
    "samples_per_ambiguous_condition = 400\n",
    "\n",
    "ambig_cluster_dict = get_index_per_class(ambig_amplitude_conditions,ambig_time_constant_conditions, ambiguous_conditions, samples_per_condition, samples_per_ambiguous_condition)\n",
    "clear_cluster_dict = get_index_per_class(clear_amplitude_conditions,clear_time_constant_conditions, [], samples_per_condition, samples_per_ambiguous_condition)\n",
    "\n",
    "\n",
    "clear_true_labels = get_labels(clear_data, clear_cluster_dict)\n",
    "ambig_true_labels = get_labels(ambig_data, ambig_cluster_dict)\n",
    "\n",
    "clear_clusters_ordered = list(range(0,len(clear_cluster_dict)+1))\n",
    "clear_layout_label_mapping = labels_to_layout_mapping(clear_clusters_ordered, 4, (1,4)) #labels_to_layout_mapping(clusters_ordered, 4, (1,4)) #labels_to_layout_mapping(clusters_ordered, 9, (2,5))\n",
    "\n",
    "ambig_clusters_ordered = list(range(0,len(ambig_cluster_dict)+1))\n",
    "ambig_layout_label_mapping = labels_to_layout_mapping(ambig_clusters_ordered, 9, (2,5))"
   ]
  },
  {
   "cell_type": "markdown",
   "metadata": {},
   "source": [
    "## Cluster Balanced Split"
   ]
  },
  {
   "cell_type": "code",
   "execution_count": 3,
   "metadata": {},
   "outputs": [],
   "source": [
    "clear_train_fold_indices, _ = training_set_split.get_training_folds(clear_data, clear_cluster_dict,cluster_split=\"balanced\",folds = 2)\n",
    "ambig_train_fold_indices, _ = training_set_split.get_training_folds(ambig_data, ambig_cluster_dict,cluster_split=\"balanced\",folds = 2)\n",
    "\n",
    "\n",
    "clear_training_set = clear_data[clear_train_fold_indices[0]]\n",
    "clear_validation_set = clear_data[clear_train_fold_indices[1]]\n",
    "\n",
    "ambig_training_set = ambig_data[ambig_train_fold_indices[0]]\n",
    "ambig_validation_set = ambig_data[ambig_train_fold_indices[1]]\n",
    "\n",
    "clear_true_labels_training = clear_true_labels[clear_train_fold_indices[0]]\n",
    "clear_true_labels_validation = clear_true_labels[clear_train_fold_indices[1]]\n",
    "\n",
    "ambig_true_labels_training = ambig_true_labels[ambig_train_fold_indices[0]]\n",
    "ambig_true_labels_validation = ambig_true_labels[ambig_train_fold_indices[1]]"
   ]
  },
  {
   "cell_type": "markdown",
   "metadata": {},
   "source": [
    "## Spectral Clustering Configuration"
   ]
  },
  {
   "cell_type": "code",
   "execution_count": 37,
   "metadata": {},
   "outputs": [],
   "source": [
    "k = 10\n",
    "regs = [0.02, 0.03, 0.04, 0.05, 0.06, 0.07, 0.08, 0.09]  \n",
    "ambig_prediction_strength_dir = \"Toy_data/Ambiguous/Ambiguous_Tau_Amplitude/Prediction_Strength/\""
   ]
  },
  {
   "cell_type": "code",
   "execution_count": 38,
   "metadata": {},
   "outputs": [
    {
     "name": "stdout",
     "output_type": "stream",
     "text": [
      "Calculate Normalized Laplacians\n",
      "Apply regularization!\n",
      "lamda = 0.0200\n",
      "Calculate Eigenvalues and Vectors of Laplacian\n",
      "Calculate Normalized Laplacians\n",
      "Apply regularization!\n",
      "lamda = 0.0200\n",
      "Calculate Eigenvalues and Vectors of Laplacian\n",
      "Calculate Normalized Laplacians\n",
      "Apply regularization!\n",
      "lamda = 0.0300\n",
      "Calculate Eigenvalues and Vectors of Laplacian\n",
      "Calculate Normalized Laplacians\n",
      "Apply regularization!\n",
      "lamda = 0.0300\n",
      "Calculate Eigenvalues and Vectors of Laplacian\n",
      "Calculate Normalized Laplacians\n",
      "Apply regularization!\n",
      "lamda = 0.0400\n",
      "Calculate Eigenvalues and Vectors of Laplacian\n",
      "Calculate Normalized Laplacians\n",
      "Apply regularization!\n",
      "lamda = 0.0400\n",
      "Calculate Eigenvalues and Vectors of Laplacian\n",
      "Calculate Normalized Laplacians\n",
      "Apply regularization!\n",
      "lamda = 0.0500\n",
      "Calculate Eigenvalues and Vectors of Laplacian\n",
      "Calculate Normalized Laplacians\n",
      "Apply regularization!\n",
      "lamda = 0.0500\n",
      "Calculate Eigenvalues and Vectors of Laplacian\n",
      "Calculate Normalized Laplacians\n",
      "Apply regularization!\n",
      "lamda = 0.0600\n",
      "Calculate Eigenvalues and Vectors of Laplacian\n",
      "Calculate Normalized Laplacians\n",
      "Apply regularization!\n",
      "lamda = 0.0600\n",
      "Calculate Eigenvalues and Vectors of Laplacian\n",
      "Calculate Normalized Laplacians\n",
      "Apply regularization!\n",
      "lamda = 0.0700\n",
      "Calculate Eigenvalues and Vectors of Laplacian\n",
      "Calculate Normalized Laplacians\n",
      "Apply regularization!\n",
      "lamda = 0.0700\n",
      "Calculate Eigenvalues and Vectors of Laplacian\n",
      "Calculate Normalized Laplacians\n",
      "Apply regularization!\n",
      "lamda = 0.0800\n",
      "Calculate Eigenvalues and Vectors of Laplacian\n",
      "Calculate Normalized Laplacians\n",
      "Apply regularization!\n",
      "lamda = 0.0800\n",
      "Calculate Eigenvalues and Vectors of Laplacian\n",
      "Calculate Normalized Laplacians\n",
      "Apply regularization!\n",
      "lamda = 0.0900\n",
      "Calculate Eigenvalues and Vectors of Laplacian\n",
      "Calculate Normalized Laplacians\n",
      "Apply regularization!\n",
      "lamda = 0.0900\n",
      "Calculate Eigenvalues and Vectors of Laplacian\n"
     ]
    }
   ],
   "source": [
    "for reg in regs:\n",
    "    labels_train, eigvec_train, eigval_train = spectral_clustering(ambig_training_set, \"euclidean\", range(1,50),  k=k, mutual = False, weighting = \"distance\", normalize = True, reg_lambda = reg, save_laplacian = False, save_eigenvalues_and_vectors = False)\n",
    "    np.save(ambig_prediction_strength_dir + \"labels/labels_k=%d_reg=%s_training\" % (k, str(reg)),labels_train)\n",
    "    np.save(ambig_prediction_strength_dir + \"eigenvalues/eigval_k=%d_reg=%s_training\" % (k, str(reg)),eigval_train)\n",
    "    labels_valid, eigvec_valid, eigval_valid = spectral_clustering(ambig_validation_set, \"euclidean\", range(1,50),  k=k, mutual = False, weighting = \"distance\", normalize = True, reg_lambda = reg, save_laplacian = False, save_eigenvalues_and_vectors = False)\n",
    "    np.save(ambig_prediction_strength_dir + \"labels/labels_k=%d_reg=%s_validation\" % (k, str(reg)),labels_valid)\n",
    "    np.save(ambig_prediction_strength_dir + \"eigenvalues/eigval_k=%d_reg=%s_validation\" % (k, str(reg)),eigval_valid)\n",
    "    "
   ]
  },
  {
   "cell_type": "code",
   "execution_count": 9,
   "metadata": {},
   "outputs": [],
   "source": [
    "clusters_from_ambig_dataset, counts = np.unique(ambig_true_labels, return_counts = True)\n",
    "clear_clusters_from_ambig = clusters_from_ambig_dataset[np.where(counts!= 400)]"
   ]
  },
  {
   "cell_type": "code",
   "execution_count": 11,
   "metadata": {},
   "outputs": [
    {
     "data": {
      "text/plain": [
       "[0.0, 2.0, 3.0, 6.0, 18.0, 20.0, 21.0, 24.0, 36.0, 38.0, 39.0, 42.0]"
      ]
     },
     "execution_count": 11,
     "metadata": {},
     "output_type": "execute_result"
    }
   ],
   "source": [
    "list(clear_clusters_from_ambig)"
   ]
  },
  {
   "cell_type": "markdown",
   "metadata": {},
   "source": [
    "# Graph Analysis"
   ]
  },
  {
   "cell_type": "code",
   "execution_count": 12,
   "metadata": {},
   "outputs": [],
   "source": [
    "from spectral_clustering import calculate_dist_matrix\n",
    "from spectral_clustering import construct_knn_graph"
   ]
  },
  {
   "cell_type": "code",
   "execution_count": 28,
   "metadata": {},
   "outputs": [],
   "source": [
    "dist_matrix, sorted_dist_matrix = calculate_dist_matrix(ambig_data, \"euclidean\")"
   ]
  },
  {
   "cell_type": "code",
   "execution_count": 29,
   "metadata": {},
   "outputs": [],
   "source": [
    "A = construct_knn_graph(dist_matrix,sorted_dist_matrix,k=len(ambig_data)-1, mutual = False, weighting = \"distance\")"
   ]
  },
  {
   "cell_type": "code",
   "execution_count": 30,
   "metadata": {},
   "outputs": [
    {
     "data": {
      "text/plain": [
       "115.34996749952657"
      ]
     },
     "execution_count": 30,
     "metadata": {},
     "output_type": "execute_result"
    }
   ],
   "source": [
    "np.mean(A)"
   ]
  },
  {
   "cell_type": "code",
   "execution_count": null,
   "metadata": {},
   "outputs": [],
   "source": [
    "import igraph as ig\n",
    "import cairocffi as cairo\n",
    "g = ig.Graph.Famous(\"petersen\")\n",
    "ig.plot(g)"
   ]
  },
  {
   "cell_type": "code",
   "execution_count": null,
   "metadata": {},
   "outputs": [],
   "source": [
    "color_dict = {}\n",
    "for i in range(10):\n",
    "    color_dict[i] = \"C%d\" % i\n",
    "\n",
    "color_dict[10] = \"black\"\n",
    "color_dict[11] = \"white\""
   ]
  },
  {
   "cell_type": "code",
   "execution_count": null,
   "metadata": {},
   "outputs": [],
   "source": [
    "g = ig.Graph.Adjacency((A > 0).tolist())\n",
    "\n",
    "# Add edge weights and node labels.\n",
    "g.es['weight'] = A[A.nonzero()]\n",
    "#g.vs['color'] = [color_dict[i] for i in clear_true_labels]  # or a.index/a.columns"
   ]
  },
  {
   "cell_type": "code",
   "execution_count": null,
   "metadata": {},
   "outputs": [],
   "source": [
    "layout = g.layout_lgl()\n",
    "\n",
    "#ig.plot(g,layout = \"layout_lgl\")"
   ]
  },
  {
   "cell_type": "code",
   "execution_count": null,
   "metadata": {},
   "outputs": [],
   "source": [
    "ig.plot(g, layout = layout)"
   ]
  }
 ],
 "metadata": {
  "kernelspec": {
   "display_name": "Python 3",
   "language": "python",
   "name": "python3"
  },
  "language_info": {
   "codemirror_mode": {
    "name": "ipython",
    "version": 3
   },
   "file_extension": ".py",
   "mimetype": "text/x-python",
   "name": "python",
   "nbconvert_exporter": "python",
   "pygments_lexer": "ipython3",
   "version": "3.7.7"
  }
 },
 "nbformat": 4,
 "nbformat_minor": 4
}
