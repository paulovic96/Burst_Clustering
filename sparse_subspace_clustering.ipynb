{
 "cells": [
  {
   "cell_type": "code",
   "execution_count": 1,
   "metadata": {},
   "outputs": [
    {
     "name": "stderr",
     "output_type": "stream",
     "text": [
      "/Users/paule/anaconda3/envs/bon17/lib/python3.7/site-packages/sklearn/utils/deprecation.py:144: FutureWarning: The sklearn.neighbors.nearest_centroid module is  deprecated in version 0.22 and will be removed in version 0.24. The corresponding classes / functions should instead be imported from sklearn.neighbors. Anything that cannot be imported from sklearn.neighbors is now part of the private API.\n",
      "  warnings.warn(message, FutureWarning)\n"
     ]
    }
   ],
   "source": [
    "import numpy as np\n",
    "from spectral_clustering import spectral_clustering\n",
    "import functions_for_plotting\n",
    "from asymmetric_laplacian_distribution import get_index_per_class, get_labels, labels_to_layout_mapping\n",
    "from sklearn.cluster import KMeans\n",
    "import training_set_split\n",
    "import seaborn as sns\n",
    "import prediction_strength\n",
    "import importlib\n",
    "import matplotlib.pyplot as plt\n",
    "import seaborn as sns\n",
    "from sklearn.metrics import pairwise_distances"
   ]
  },
  {
   "cell_type": "code",
   "execution_count": 2,
   "metadata": {},
   "outputs": [],
   "source": [
    "#----------------------------------------------- DATA ------------------------------------------------------------------\n",
    "data_dir = \"data/\"\n",
    "\n",
    "clear_data = np.load(data_dir + \"clearly_separated_data_F_signal_noise.npy\")\n",
    "ambig_data = np.load(data_dir + \"ambiguous_data_tau_amplitude_F_signal_noise.npy\")\n",
    "#np.load(data_dir + \"ambiguous_data_tau_amplitude_F_signal_noise.npy\") #np.load(data_dir + \"clearly_separated_data_F_signal_noise.npy\")\n",
    "\n",
    "clear_amplitude_conditions = [\"S\", \"M\", \"L\"]  #[\"S\", \"S/M\", \"M\", \"M/L\", \"L\"] #[\"S\", \"M\", \"L\"]\n",
    "ambig_amplitude_conditions = [\"S\", \"S/M\", \"M\", \"M/L\", \"L\"]\n",
    "\n",
    "clear_time_constant_conditions = [\"equal_sharp\", \"equal_wide\", \"wide_sharp_negative_skew\", \"sharp_wide_positive_skew\"]\n",
    "ambig_time_constant_conditions = [\"equal_sharp\", \"equal_medium\", \"equal_wide\", \"wide_sharp_negative_skew\", \"wide_medium_negative_skew\",\"medium_sharp_negative_skew\",\"sharp_wide_positive_skew\", \"medium_wide_positive_skew\" ,\"sharp_medium_positive_skew\"]\n",
    "\n",
    "#[\"equal_sharp\", \"equal_medium\", \"equal_wide\", \"wide_sharp_negative_skew\", \"wide_medium_negative_skew\",\"medium_sharp_negative_skew\",\"sharp_wide_positive_skew\", \"medium_wide_positive_skew\" ,\"sharp_medium_positive_skew\"]\n",
    "#[\"equal_sharp\", \"equal_wide\", \"wide_sharp_negative_skew\", \"sharp_wide_positive_skew\"]\n",
    "\n",
    "ambiguous_conditions = [\"S/M\", \"M/L\", \"equal_medium\", \"wide_medium_negative_skew\", \"medium_sharp_negative_skew\", \"medium_wide_positive_skew\", \"sharp_medium_positive_skew\"]\n",
    "\n",
    "samples_per_condition = 1000\n",
    "samples_per_ambiguous_condition = 400\n",
    "\n",
    "ambig_cluster_dict = get_index_per_class(ambig_amplitude_conditions,ambig_time_constant_conditions, ambiguous_conditions, samples_per_condition, samples_per_ambiguous_condition)\n",
    "clear_cluster_dict = get_index_per_class(clear_amplitude_conditions,clear_time_constant_conditions, [], samples_per_condition, samples_per_ambiguous_condition)\n",
    "\n",
    "\n",
    "clear_true_labels = get_labels(clear_data, clear_cluster_dict)\n",
    "ambig_true_labels = get_labels(ambig_data, ambig_cluster_dict)\n",
    "\n",
    "clear_clusters_ordered = list(range(0,len(clear_cluster_dict)+1))\n",
    "clear_layout_label_mapping = labels_to_layout_mapping(clear_clusters_ordered, 4, (1,4)) #labels_to_layout_mapping(clusters_ordered, 4, (1,4)) #labels_to_layout_mapping(clusters_ordered, 9, (2,5))\n",
    "\n",
    "ambig_clusters_ordered = list(range(0,len(ambig_cluster_dict)+1))\n",
    "ambig_layout_label_mapping = labels_to_layout_mapping(ambig_clusters_ordered, 9, (2,5))"
   ]
  },
  {
   "cell_type": "code",
   "execution_count": 3,
   "metadata": {},
   "outputs": [],
   "source": [
    "data = clear_data\n",
    "cluster_dict = clear_cluster_dict"
   ]
  },
  {
   "cell_type": "code",
   "execution_count": 4,
   "metadata": {},
   "outputs": [],
   "source": [
    "test_data = np.zeros((len(cluster_dict.keys())*100, len(data[0])))\n",
    "test_cluster_dict = {}\n",
    "for i,key in enumerate(list(cluster_dict.keys())):\n",
    "    start = cluster_dict[key][0]\n",
    "    test_data[i*100:(i+1)*100,:] = data[start:start+100,:]\n",
    "    test_cluster_dict[key] = (i*100,(i+1)*100-1)"
   ]
  },
  {
   "cell_type": "code",
   "execution_count": 6,
   "metadata": {},
   "outputs": [
    {
     "data": {
      "text/plain": [
       "(1200, 3501)"
      ]
     },
     "execution_count": 6,
     "metadata": {},
     "output_type": "execute_result"
    }
   ],
   "source": [
    "test_data.shape"
   ]
  },
  {
   "cell_type": "markdown",
   "metadata": {},
   "source": [
    "# Sparse Subspace Coefficients\n",
    "\n",
    "- Self expressiveness of the data\n",
    "- each datapoint as linear combination of the others\n",
    "- similarity graph based on coefficient representation"
   ]
  },
  {
   "cell_type": "code",
   "execution_count": 7,
   "metadata": {},
   "outputs": [
    {
     "name": "stdout",
     "output_type": "stream",
     "text": [
      "Collecting cvxpy\n",
      "  Downloading cvxpy-1.0.31-cp37-cp37m-macosx_10_9_x86_64.whl (746 kB)\n",
      "\u001b[K     |████████████████████████████████| 746 kB 1.7 MB/s eta 0:00:01\n",
      "\u001b[?25hRequirement already satisfied: scipy>=1.1.0 in /Users/paule/anaconda3/envs/bon17/lib/python3.7/site-packages (from cvxpy) (1.4.1)\n",
      "Collecting osqp>=0.4.1\n",
      "  Downloading osqp-0.6.1-cp37-cp37m-macosx_10_9_x86_64.whl (158 kB)\n",
      "\u001b[K     |████████████████████████████████| 158 kB 3.3 MB/s eta 0:00:01\n",
      "\u001b[?25hCollecting multiprocess\n",
      "  Downloading multiprocess-0.70.9.tar.gz (1.6 MB)\n",
      "\u001b[K     |████████████████████████████████| 1.6 MB 2.4 MB/s eta 0:00:01\n",
      "\u001b[?25hRequirement already satisfied: numpy>=1.15 in /Users/paule/anaconda3/envs/bon17/lib/python3.7/site-packages (from cvxpy) (1.18.1)\n",
      "Collecting scs>=1.1.3\n",
      "  Downloading scs-2.1.2.tar.gz (3.5 MB)\n",
      "\u001b[K     |████████████████████████████████| 3.5 MB 3.2 MB/s eta 0:00:01\n",
      "\u001b[?25hCollecting ecos>=2\n",
      "  Downloading ecos-2.0.7.post1.tar.gz (126 kB)\n",
      "\u001b[K     |████████████████████████████████| 126 kB 4.9 MB/s eta 0:00:01\n",
      "\u001b[?25hRequirement already satisfied: future in /Users/paule/anaconda3/envs/bon17/lib/python3.7/site-packages (from osqp>=0.4.1->cvxpy) (0.18.2)\n",
      "Collecting dill>=0.3.1\n",
      "  Downloading dill-0.3.1.1.tar.gz (151 kB)\n",
      "\u001b[K     |████████████████████████████████| 151 kB 3.8 MB/s eta 0:00:01\n",
      "\u001b[?25hBuilding wheels for collected packages: multiprocess, scs, ecos, dill\n",
      "  Building wheel for multiprocess (setup.py) ... \u001b[?25ldone\n",
      "\u001b[?25h  Created wheel for multiprocess: filename=multiprocess-0.70.9-py3-none-any.whl size=108029 sha256=c06e69b9eff06e78ab90f2838cca5f76c0a74ff9b1d4700bf87894dc6ebcb697\n",
      "  Stored in directory: /Users/paule/Library/Caches/pip/wheels/83/2b/b4/50d7cae5b9069434454fd36da009832592af4fff58b51db8d9\n",
      "  Building wheel for scs (setup.py) ... \u001b[?25ldone\n",
      "\u001b[?25h  Created wheel for scs: filename=scs-2.1.2-cp37-cp37m-macosx_10_9_x86_64.whl size=124434 sha256=5db1e35fe74b253a135adc3f6e0a0019cb61c4db7f630c70aa2e9b99350383ef\n",
      "  Stored in directory: /Users/paule/Library/Caches/pip/wheels/bc/e9/2d/41c52bfaefbbbee5b3c6c189e168039f6ac9b40fa2e14fe96d\n",
      "  Building wheel for ecos (setup.py) ... \u001b[?25ldone\n",
      "\u001b[?25h  Created wheel for ecos: filename=ecos-2.0.7.post1-cp37-cp37m-macosx_10_9_x86_64.whl size=72419 sha256=950a5055f1da51fd8e10711c743d4882ff2d04bc5347ab73631f208df750696f\n",
      "  Stored in directory: /Users/paule/Library/Caches/pip/wheels/70/e7/fd/4a4f957fc18a0f0407ca4b331c51e6a469c92efec58f732edf\n",
      "  Building wheel for dill (setup.py) ... \u001b[?25ldone\n",
      "\u001b[?25h  Created wheel for dill: filename=dill-0.3.1.1-py3-none-any.whl size=78530 sha256=d2bbbd5ab27aff49a27564e21f428b4c84d91e4551011e4696d2159ad3e54f9d\n",
      "  Stored in directory: /Users/paule/Library/Caches/pip/wheels/a4/61/fd/c57e374e580aa78a45ed78d5859b3a44436af17e22ca53284f\n",
      "Successfully built multiprocess scs ecos dill\n",
      "Installing collected packages: osqp, dill, multiprocess, scs, ecos, cvxpy\n",
      "Successfully installed cvxpy-1.0.31 dill-0.3.1.1 ecos-2.0.7.post1 multiprocess-0.70.9 osqp-0.6.1 scs-2.1.2\n"
     ]
    }
   ],
   "source": [
    "!pip install cvxpy"
   ]
  },
  {
   "cell_type": "code",
   "execution_count": 8,
   "metadata": {},
   "outputs": [
    {
     "name": "stdout",
     "output_type": "stream",
     "text": [
      "(3501,)\n",
      "(1200, 3501)\n"
     ]
    }
   ],
   "source": [
    "import cvxpy as cp\n",
    "\n",
    "y_i = test_data[0]\n",
    "print(y_i.shape)\n",
    "print(test_data.shape)"
   ]
  },
  {
   "cell_type": "code",
   "execution_count": 15,
   "metadata": {},
   "outputs": [],
   "source": [
    "c = cp.Variable(test_data.shape[0]-1)\n",
    "X_i = np.delete(test_data, 0, axis = 0)"
   ]
  },
  {
   "cell_type": "code",
   "execution_count": 16,
   "metadata": {},
   "outputs": [
    {
     "name": "stdout",
     "output_type": "stream",
     "text": [
      "(1199,)\n",
      "(1199, 3501)\n"
     ]
    }
   ],
   "source": [
    "print(c.shape)\n",
    "print(X_i.shape)"
   ]
  },
  {
   "cell_type": "code",
   "execution_count": 21,
   "metadata": {},
   "outputs": [
    {
     "name": "stdout",
     "output_type": "stream",
     "text": [
      "c= [ 1.57913636e-15 -2.97116831e-16 -1.42219088e-14 ...  1.00532088e-11\n",
      "  8.11509568e-12  7.12092074e-13]\n",
      "val= 0.09643227629915738\n"
     ]
    }
   ],
   "source": [
    "prob = cp.Problem(cp.Minimize(cp.sum(cp.abs(c)) + 0.1* cp.sum_squares(y_i - c @ X_i )))\n",
    "optimal_value = prob.solve()\n",
    "print(\"c=\",c.value)\n",
    "print(\"val=\",optimal_value)"
   ]
  },
  {
   "cell_type": "code",
   "execution_count": 27,
   "metadata": {},
   "outputs": [
    {
     "data": {
      "text/plain": [
       "[<matplotlib.lines.Line2D at 0x1a66bbc190>]"
      ]
     },
     "execution_count": 27,
     "metadata": {},
     "output_type": "execute_result"
    },
    {
     "data": {
      "image/png": "[encoded data removed]",
      "text/plain": [
       "<Figure size 432x288 with 1 Axes>"
      ]
     },
     "metadata": {
      "needs_background": "light"
     },
     "output_type": "display_data"
    }
   ],
   "source": [
    "plt.plot(y_i)"
   ]
  },
  {
   "cell_type": "code",
   "execution_count": 31,
   "metadata": {},
   "outputs": [
    {
     "data": {
      "text/plain": [
       "array([ 1.47047923e-03,  2.25519434e-03,  5.47152007e-03, ...,\n",
       "        3.23411069e-03, -6.79386345e-05,  4.53919139e-03])"
      ]
     },
     "execution_count": 31,
     "metadata": {},
     "output_type": "execute_result"
    }
   ],
   "source": [
    "c.value @ X_i"
   ]
  },
  {
   "cell_type": "code",
   "execution_count": 32,
   "metadata": {},
   "outputs": [
    {
     "data": {
      "text/plain": [
       "[<matplotlib.lines.Line2D at 0x1a67058f10>]"
      ]
     },
     "execution_count": 32,
     "metadata": {},
     "output_type": "execute_result"
    },
    {
     "data": {
      "image/png": "[encoded data removed]",
      "text/plain": [
       "<Figure size 432x288 with 1 Axes>"
      ]
     },
     "metadata": {
      "needs_background": "light"
     },
     "output_type": "display_data"
    }
   ],
   "source": [
    "plt.plot(c.value @ X_i)"
   ]
  },
  {
   "cell_type": "code",
   "execution_count": 9,
   "metadata": {},
   "outputs": [
    {
     "name": "stdout",
     "output_type": "stream",
     "text": [
      "Solving for: 0-th burst!\n",
      "Solving for: 100-th burst!\n",
      "Solving for: 200-th burst!\n",
      "Solving for: 300-th burst!\n",
      "Solving for: 400-th burst!\n",
      "Solving for: 500-th burst!\n",
      "Solving for: 600-th burst!\n",
      "Solving for: 700-th burst!\n",
      "Solving for: 800-th burst!\n",
      "Solving for: 900-th burst!\n",
      "Solving for: 1000-th burst!\n",
      "Solving for: 1100-th burst!\n"
     ]
    }
   ],
   "source": [
    "C = np.zeros((test_data.shape[0], test_data.shape[0] - 1))\n",
    "for i,burst in enumerate(test_data):\n",
    "    if i % 100 == 0:\n",
    "        print(\"Solving for: %d-th burst!\" % i)\n",
    "    c = cp.Variable(test_data.shape[0]-1)\n",
    "    X_i = np.delete(test_data, i, axis = 0)\n",
    "    prob = cp.Problem(cp.Minimize(cp.sum(cp.abs(c)) + 0.1* cp.sum_squares(burst - c @ X_i )))\n",
    "    optimal_value = prob.solve()\n",
    "    #print(\"c=\",c.value)\n",
    "    #print(\"val=\",optimal_value)\n",
    "    C[i] = c.value"
   ]
  },
  {
   "cell_type": "code",
   "execution_count": 10,
   "metadata": {},
   "outputs": [],
   "source": [
    "#np.save(\"sparse_coefficents\", C)"
   ]
  },
  {
   "cell_type": "code",
   "execution_count": 11,
   "metadata": {},
   "outputs": [],
   "source": [
    "A = C.copy()"
   ]
  },
  {
   "cell_type": "code",
   "execution_count": 16,
   "metadata": {},
   "outputs": [
    {
     "data": {
      "text/plain": [
       "(1200, 1199)"
      ]
     },
     "execution_count": 16,
     "metadata": {},
     "output_type": "execute_result"
    }
   ],
   "source": [
    "A.shape"
   ]
  },
  {
   "cell_type": "code",
   "execution_count": 12,
   "metadata": {},
   "outputs": [],
   "source": [
    "A_new = np.zeros((len(test_data), len(test_data)))\n",
    "\n",
    "for i in range(len(test_data)):\n",
    "    mask = np.ones(len(test_data),dtype=bool)\n",
    "    mask[i] = False\n",
    "    A_new[i,mask] = A[i] "
   ]
  },
  {
   "cell_type": "code",
   "execution_count": 13,
   "metadata": {},
   "outputs": [],
   "source": [
    "W = np.absolute(A_new) + np.absolute(A_new.T)"
   ]
  },
  {
   "cell_type": "code",
   "execution_count": 31,
   "metadata": {},
   "outputs": [
    {
     "name": "stdout",
     "output_type": "stream",
     "text": [
      "Use precomputed matrix for constructing KNN-Graph\n",
      "Build symmetric KNN-Graph based on Similarity of data points!\n",
      "Weighting: True\n",
      "Calculate Normalized Laplacians\n",
      "Normalization: symmetric\n",
      "Calculate Eigenvalues and Vectors of Laplacian\n"
     ]
    }
   ],
   "source": [
    "labels_valid, eigvec_valid, eigval_valid = spectral_clustering(test_data, \"precomputed\", \"similarity\" ,range(1,50), k=4, precomputed_matrix=W, mutual = False, weighting = True, normalize = True, reg_lambda = None, save_laplacian = False, save_eigenvalues_and_vectors = False)"
   ]
  },
  {
   "cell_type": "code",
   "execution_count": 26,
   "metadata": {},
   "outputs": [
    {
     "name": "stdout",
     "output_type": "stream",
     "text": [
      "Calculate euclidean matrix for constructing KNN-Graph\n",
      "Build symmetric KNN-Graph based on Distance of data points!\n",
      "Weighting: False\n",
      "Calculate Normalized Laplacians\n",
      "Normalization: symmetric\n",
      "Calculate Eigenvalues and Vectors of Laplacian\n"
     ]
    }
   ],
   "source": [
    "labels_valid, eigvec_valid, eigval_valid = spectral_clustering(test_data, \"euclidean\", \"distance\" ,range(1,50), k=10, precomputed_matrix=None, mutual = False, weighting = False, normalize = True, reg_lambda = None, save_laplacian = False, save_eigenvalues_and_vectors = False)"
   ]
  },
  {
   "cell_type": "code",
   "execution_count": 30,
   "metadata": {},
   "outputs": [
    {
     "data": {
      "text/plain": [
       "array([ 2,  2, 10, 10,  2, 11,  2, 10, 10,  2,  2, 10,  2, 11,  2,  6, 10,\n",
       "        2,  2,  6, 11,  2, 11, 11, 10, 11,  2,  2, 10,  6, 10, 11,  2, 10,\n",
       "       11,  6, 11, 11, 10, 11, 11,  2, 11, 10, 11, 11,  2,  2, 11, 11, 11,\n",
       "       10, 10, 10, 11,  2, 11,  2,  2,  2, 10, 10, 11,  6, 11, 11,  6,  2,\n",
       "        2, 10,  2, 11, 10, 10,  2,  2, 10, 10,  6,  6,  2,  2, 11, 11,  2,\n",
       "        2,  2,  6,  6, 10, 10,  6, 10, 11, 10, 11,  6, 10, 10, 10],\n",
       "      dtype=int32)"
      ]
     },
     "execution_count": 30,
     "metadata": {},
     "output_type": "execute_result"
    }
   ],
   "source": [
    "labels_valid[11][0:100]"
   ]
  },
  {
   "cell_type": "code",
   "execution_count": 89,
   "metadata": {},
   "outputs": [
    {
     "data": {
      "text/plain": [
       "[<matplotlib.lines.Line2D at 0x1a67d105d0>]"
      ]
     },
     "execution_count": 89,
     "metadata": {},
     "output_type": "execute_result"
    },
    {
     "data": {
      "image/png": "[encoded data removed]",
      "text/plain": [
       "<Figure size 432x288 with 1 Axes>"
      ]
     },
     "metadata": {
      "needs_background": "light"
     },
     "output_type": "display_data"
    }
   ],
   "source": [
    "plt.plot(test_data[20])"
   ]
  },
  {
   "cell_type": "code",
   "execution_count": 83,
   "metadata": {},
   "outputs": [
    {
     "data": {
      "text/plain": [
       "(120,)"
      ]
     },
     "execution_count": 83,
     "metadata": {},
     "output_type": "execute_result"
    }
   ],
   "source": [
    "A_new[-1].shape"
   ]
  },
  {
   "cell_type": "code",
   "execution_count": 84,
   "metadata": {},
   "outputs": [
    {
     "data": {
      "text/plain": [
       "(3501,)"
      ]
     },
     "execution_count": 84,
     "metadata": {},
     "output_type": "execute_result"
    }
   ],
   "source": [
    "test_data[-1].shape"
   ]
  },
  {
   "cell_type": "code",
   "execution_count": 90,
   "metadata": {},
   "outputs": [
    {
     "data": {
      "text/plain": [
       "[<matplotlib.lines.Line2D at 0x1a67ea9110>]"
      ]
     },
     "execution_count": 90,
     "metadata": {},
     "output_type": "execute_result"
    },
    {
     "data": {
      "image/png": "[encoded data removed]",
      "text/plain": [
       "<Figure size 432x288 with 1 Axes>"
      ]
     },
     "metadata": {
      "needs_background": "light"
     },
     "output_type": "display_data"
    }
   ],
   "source": [
    "plt.plot(A_new[20] @ test_data)"
   ]
  },
  {
   "cell_type": "code",
   "execution_count": 32,
   "metadata": {},
   "outputs": [],
   "source": [
    "test_clustered_labels = {}\n",
    "for i, labels in enumerate(labels_valid):\n",
    "    test_clustered_labels[i+1] = labels    "
   ]
  },
  {
   "cell_type": "code",
   "execution_count": 37,
   "metadata": {},
   "outputs": [
    {
     "name": "stderr",
     "output_type": "stream",
     "text": [
      "/Users/paule/Desktop/Burst_Clustering/functions_for_plotting.py:271: MatplotlibDeprecationWarning: Adding an axes using the same arguments as a previous axes currently reuses the earlier instance.  In a future version, a new instance will always be created and returned.  Meanwhile, this warning can be suppressed, and the future behavior ensured, by passing a unique label to each axes instance.\n",
      "  ax = fig.add_subplot(outer_grid[row_i:(row_i + 1), column_i])\n",
      "/Users/paule/Desktop/Burst_Clustering/functions_for_plotting.py:277: MatplotlibDeprecationWarning: Adding an axes using the same arguments as a previous axes currently reuses the earlier instance.  In a future version, a new instance will always be created and returned.  Meanwhile, this warning can be suppressed, and the future behavior ensured, by passing a unique label to each axes instance.\n",
      "  ax = fig.add_subplot(outer_grid[row_start:row_end, corresponding_column])\n",
      "/Users/paule/Desktop/Burst_Clustering/functions_for_plotting.py:271: MatplotlibDeprecationWarning: Adding an axes using the same arguments as a previous axes currently reuses the earlier instance.  In a future version, a new instance will always be created and returned.  Meanwhile, this warning can be suppressed, and the future behavior ensured, by passing a unique label to each axes instance.\n",
      "  ax = fig.add_subplot(outer_grid[row_i:(row_i + 1), column_i])\n",
      "/Users/paule/Desktop/Burst_Clustering/functions_for_plotting.py:277: MatplotlibDeprecationWarning: Adding an axes using the same arguments as a previous axes currently reuses the earlier instance.  In a future version, a new instance will always be created and returned.  Meanwhile, this warning can be suppressed, and the future behavior ensured, by passing a unique label to each axes instance.\n",
      "  ax = fig.add_subplot(outer_grid[row_start:row_end, corresponding_column])\n",
      "/Users/paule/Desktop/Burst_Clustering/functions_for_plotting.py:271: MatplotlibDeprecationWarning: Adding an axes using the same arguments as a previous axes currently reuses the earlier instance.  In a future version, a new instance will always be created and returned.  Meanwhile, this warning can be suppressed, and the future behavior ensured, by passing a unique label to each axes instance.\n",
      "  ax = fig.add_subplot(outer_grid[row_i:(row_i + 1), column_i])\n",
      "/Users/paule/Desktop/Burst_Clustering/functions_for_plotting.py:277: MatplotlibDeprecationWarning: Adding an axes using the same arguments as a previous axes currently reuses the earlier instance.  In a future version, a new instance will always be created and returned.  Meanwhile, this warning can be suppressed, and the future behavior ensured, by passing a unique label to each axes instance.\n",
      "  ax = fig.add_subplot(outer_grid[row_start:row_end, corresponding_column])\n",
      "/Users/paule/Desktop/Burst_Clustering/functions_for_plotting.py:271: MatplotlibDeprecationWarning: Adding an axes using the same arguments as a previous axes currently reuses the earlier instance.  In a future version, a new instance will always be created and returned.  Meanwhile, this warning can be suppressed, and the future behavior ensured, by passing a unique label to each axes instance.\n",
      "  ax = fig.add_subplot(outer_grid[row_i:(row_i + 1), column_i])\n",
      "/Users/paule/Desktop/Burst_Clustering/functions_for_plotting.py:277: MatplotlibDeprecationWarning: Adding an axes using the same arguments as a previous axes currently reuses the earlier instance.  In a future version, a new instance will always be created and returned.  Meanwhile, this warning can be suppressed, and the future behavior ensured, by passing a unique label to each axes instance.\n",
      "  ax = fig.add_subplot(outer_grid[row_start:row_end, corresponding_column])\n",
      "/Users/paule/Desktop/Burst_Clustering/functions_for_plotting.py:277: MatplotlibDeprecationWarning: Adding an axes using the same arguments as a previous axes currently reuses the earlier instance.  In a future version, a new instance will always be created and returned.  Meanwhile, this warning can be suppressed, and the future behavior ensured, by passing a unique label to each axes instance.\n",
      "  ax = fig.add_subplot(outer_grid[row_start:row_end, corresponding_column])\n",
      "/Users/paule/Desktop/Burst_Clustering/functions_for_plotting.py:277: MatplotlibDeprecationWarning: Adding an axes using the same arguments as a previous axes currently reuses the earlier instance.  In a future version, a new instance will always be created and returned.  Meanwhile, this warning can be suppressed, and the future behavior ensured, by passing a unique label to each axes instance.\n",
      "  ax = fig.add_subplot(outer_grid[row_start:row_end, corresponding_column])\n",
      "/Users/paule/Desktop/Burst_Clustering/functions_for_plotting.py:335: MatplotlibDeprecationWarning: Adding an axes using the same arguments as a previous axes currently reuses the earlier instance.  In a future version, a new instance will always be created and returned.  Meanwhile, this warning can be suppressed, and the future behavior ensured, by passing a unique label to each axes instance.\n",
      "  ax = fig.add_subplot(outer_grid[row_i:(row_i + 1), column_i])\n"
     ]
    }
   ],
   "source": [
    "test_true_labels = get_labels(test_data, test_cluster_dict)\n",
    "\n",
    "test_clusters_ordered = list(range(0,len(test_cluster_dict)+1))\n",
    "test_layout_label_mapping = labels_to_layout_mapping(test_clusters_ordered, 4, (1,4)) #labels_to_layout_mapping(clusters_ordered, 4, (1,4)) #labels_to_layout_mapping(clusters_ordered, 9, (2,5))\n",
    "\n",
    "\n",
    "save_file_clusters = \"subset_sparse_subspace_clustering_k=4_reg=None.pdf\"\n",
    "\n",
    "functions_for_plotting.plot_clusters(test_data, # the dataset \n",
    "                                     test_true_labels, # the true labels for the dataset \n",
    "                                     test_clustered_labels[12],  # the clustered labels \n",
    "                                     3, # the number of rows in the grid \n",
    "                                     4, # the number of columns in the grid \n",
    "                                     clear_layout_label_mapping, # our layout mapping\n",
    "                                     figsize=(20,20), # the figsize\n",
    "                                     n_bursts = 100, # the number of bursts you want to plot for each cluster \n",
    "                                     y_lim = (0,16), # the y_lim\n",
    "                                     save_file=save_file_clusters, # the file you want to save the plot \n",
    "                                     subplot_adjustments= [0.05,0.95,0.03,0.9,0.4, 0.15], # adjustments for suplots and overall spacing (tricky) \n",
    "                                     plot_mean=False, # plot the mean of each cluster ? \n",
    "                                     title= \"Sparse Subspace Clusters \\n k=4 reg=None\" ) # title of the plot\n"
   ]
  }
 ],
 "metadata": {
  "kernelspec": {
   "display_name": "Python 3",
   "language": "python",
   "name": "python3"
  },
  "language_info": {
   "codemirror_mode": {
    "name": "ipython",
    "version": 3
   },
   "file_extension": ".py",
   "mimetype": "text/x-python",
   "name": "python",
   "nbconvert_exporter": "python",
   "pygments_lexer": "ipython3",
   "version": "3.7.7"
  }
 },
 "nbformat": 4,
 "nbformat_minor": 4
}
