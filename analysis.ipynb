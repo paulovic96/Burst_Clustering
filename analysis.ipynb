{
 "cells": [
  {
   "cell_type": "code",
   "execution_count": 1,
   "metadata": {},
   "outputs": [
    {
     "name": "stderr",
     "output_type": "stream",
     "text": [
      "/Users/paule/anaconda3/envs/bon17/lib/python3.7/site-packages/sklearn/utils/deprecation.py:144: FutureWarning: The sklearn.neighbors.nearest_centroid module is  deprecated in version 0.22 and will be removed in version 0.24. The corresponding classes / functions should instead be imported from sklearn.neighbors. Anything that cannot be imported from sklearn.neighbors is now part of the private API.\n",
      "  warnings.warn(message, FutureWarning)\n"
     ]
    }
   ],
   "source": [
    "import numpy as np\n",
    "from spectral_clustering import spectral_clustering\n",
    "import functions_for_plotting\n",
    "from asymmetric_laplacian_distribution import get_index_per_class, get_labels, labels_to_layout_mapping\n",
    "from sklearn.cluster import KMeans\n",
    "import training_set_split\n",
    "import seaborn as sns\n",
    "import prediction_strength\n",
    "import importlib\n",
    "import matplotlib.pyplot as plt"
   ]
  },
  {
   "cell_type": "markdown",
   "metadata": {},
   "source": [
    "# Load Data and True Labels"
   ]
  },
  {
   "cell_type": "code",
   "execution_count": 2,
   "metadata": {},
   "outputs": [],
   "source": [
    "#----------------------------------------------- DATA ------------------------------------------------------------------\n",
    "data_dir = \"data/\"\n",
    "\n",
    "clear_data = np.load(data_dir + \"clearly_separated_data_F_signal_noise.npy\")\n",
    "ambig_data = np.load(data_dir + \"ambiguous_data_tau_amplitude_F_signal_noise.npy\")\n",
    "#np.load(data_dir + \"ambiguous_data_tau_amplitude_F_signal_noise.npy\") #np.load(data_dir + \"clearly_separated_data_F_signal_noise.npy\")\n",
    "\n",
    "clear_amplitude_conditions = [\"S\", \"M\", \"L\"]  #[\"S\", \"S/M\", \"M\", \"M/L\", \"L\"] #[\"S\", \"M\", \"L\"]\n",
    "ambig_amplitude_conditions = [\"S\", \"S/M\", \"M\", \"M/L\", \"L\"]\n",
    "\n",
    "clear_time_constant_conditions = [\"equal_sharp\", \"equal_wide\", \"wide_sharp_negative_skew\", \"sharp_wide_positive_skew\"]\n",
    "ambig_time_constant_conditions = [\"equal_sharp\", \"equal_medium\", \"equal_wide\", \"wide_sharp_negative_skew\", \"wide_medium_negative_skew\",\"medium_sharp_negative_skew\",\"sharp_wide_positive_skew\", \"medium_wide_positive_skew\" ,\"sharp_medium_positive_skew\"]\n",
    "\n",
    "#[\"equal_sharp\", \"equal_medium\", \"equal_wide\", \"wide_sharp_negative_skew\", \"wide_medium_negative_skew\",\"medium_sharp_negative_skew\",\"sharp_wide_positive_skew\", \"medium_wide_positive_skew\" ,\"sharp_medium_positive_skew\"]\n",
    "#[\"equal_sharp\", \"equal_wide\", \"wide_sharp_negative_skew\", \"sharp_wide_positive_skew\"]\n",
    "\n",
    "ambiguous_conditions = [\"S/M\", \"M/L\", \"equal_medium\", \"wide_medium_negative_skew\", \"medium_sharp_negative_skew\", \"medium_wide_positive_skew\", \"sharp_medium_positive_skew\"]\n",
    "\n",
    "samples_per_condition = 1000\n",
    "samples_per_ambiguous_condition = 400\n",
    "\n",
    "ambig_cluster_dict = get_index_per_class(ambig_amplitude_conditions,ambig_time_constant_conditions, ambiguous_conditions, samples_per_condition, samples_per_ambiguous_condition)\n",
    "clear_cluster_dict = get_index_per_class(clear_amplitude_conditions,clear_time_constant_conditions, [], samples_per_condition, samples_per_ambiguous_condition)\n",
    "\n",
    "\n",
    "clear_true_labels = get_labels(clear_data, clear_cluster_dict)\n",
    "ambig_true_labels = get_labels(ambig_data, ambig_cluster_dict)\n",
    "\n",
    "clear_clusters_ordered = list(range(0,len(clear_cluster_dict)+1))\n",
    "clear_layout_label_mapping = labels_to_layout_mapping(clear_clusters_ordered, 4, (1,4)) #labels_to_layout_mapping(clusters_ordered, 4, (1,4)) #labels_to_layout_mapping(clusters_ordered, 9, (2,5))\n",
    "\n",
    "ambig_clusters_ordered = list(range(0,len(ambig_cluster_dict)+1))\n",
    "ambig_layout_label_mapping = labels_to_layout_mapping(ambig_clusters_ordered, 9, (2,5))\n",
    "\n",
    "\n",
    "clear_train_fold_indices, _ = training_set_split.get_training_folds(clear_data, clear_cluster_dict,cluster_wise=True,folds = 2)\n",
    "ambig_train_fold_indices, _ = training_set_split.get_training_folds(ambig_data, ambig_cluster_dict,cluster_wise=True,folds = 2)\n",
    "\n",
    "\n",
    "clear_training_set = clear_data[clear_train_fold_indices[0]]\n",
    "clear_validation_set = clear_data[clear_train_fold_indices[1]]\n",
    "\n",
    "ambig_training_set = ambig_data[ambig_train_fold_indices[0]]\n",
    "ambig_validation_set = ambig_data[ambig_train_fold_indices[1]]\n",
    "\n",
    "clear_true_labels_training = clear_true_labels[clear_train_fold_indices[0]]\n",
    "clear_true_labels_validation = clear_true_labels[clear_train_fold_indices[1]]\n",
    "\n",
    "ambig_true_labels_training = ambig_true_labels[ambig_train_fold_indices[0]]\n",
    "ambig_true_labels_validation = ambig_true_labels[ambig_train_fold_indices[1]]"
   ]
  },
  {
   "cell_type": "code",
   "execution_count": 3,
   "metadata": {},
   "outputs": [
    {
     "name": "stdout",
     "output_type": "stream",
     "text": [
      "(array([ 0.,  1.,  2.,  3.,  4.,  5.,  6.,  7.,  8.,  9., 10., 11.]), array([500, 500, 500, 500, 500, 500, 500, 500, 500, 500, 500, 500]))\n",
      "(array([ 0.,  1.,  2.,  3.,  4.,  5.,  6.,  7.,  8.,  9., 10., 11., 12.,\n",
      "       13., 14., 15., 16., 17., 18., 19., 20., 21., 22., 23., 24., 25.,\n",
      "       26., 27., 28., 29., 30., 31., 32., 33., 34., 35., 36., 37., 38.,\n",
      "       39., 40., 41., 42., 43., 44.]), array([500, 200, 500, 500, 200, 200, 500, 200, 200, 200, 200, 200, 200,\n",
      "       200, 200, 200, 200, 200, 500, 200, 500, 500, 200, 200, 500, 200,\n",
      "       200, 200, 200, 200, 200, 200, 200, 200, 200, 200, 500, 200, 500,\n",
      "       500, 200, 200, 500, 200, 200]))\n"
     ]
    }
   ],
   "source": [
    "print(np.unique(clear_true_labels_training,return_counts = True))\n",
    "print(np.unique(ambig_true_labels_training,return_counts = True))"
   ]
  },
  {
   "cell_type": "markdown",
   "metadata": {},
   "source": [
    "## Prediction strength vs. F1 score \n",
    "- True positives: same cluster in  training, same cluster in validation\n",
    "- False positives: different cluster in training, same cluster in validation\n",
    "- True negatives: different cluster in training, different cluster in validation\n",
    "- False negatives: same cluster in training, different cluster in validation "
   ]
  },
  {
   "cell_type": "code",
   "execution_count": 4,
   "metadata": {},
   "outputs": [],
   "source": [
    "from prediction_strength import calculate_centroids_and_predict_validation_data\n",
    "from prediction_strength import get_confusion_matrix\n",
    "from prediction_strength import get_recall\n",
    "from prediction_strength import get_precision\n",
    "from prediction_strength import get_F1_score\n",
    "from math import factorial\n",
    "from itertools import permutations\n",
    "from itertools import product"
   ]
  },
  {
   "cell_type": "code",
   "execution_count": 5,
   "metadata": {},
   "outputs": [],
   "source": [
    "def get_F1_score_per_k(data, train_indices, valid_indices, train_labels, valid_labels,combination_type = \"full\", true_train_labels = None, own_combinations=None):\n",
    "    k_clusters = list(valid_labels.keys())\n",
    "    training_set = data[train_indices]\n",
    "    validation_set = data[valid_indices]\n",
    "    \n",
    "    if combination_type == \"true\":\n",
    "        print(\"Calculate F1 score based on true training centroids!\")\n",
    "        if not true_train_labels is None:\n",
    "            true_F1_score_per_k = {} \n",
    "            for k in k_clusters:\n",
    "                train_labels_k = true_train_labels\n",
    "                valid_labels_k = valid_labels[k]\n",
    "                \n",
    "                if len(np.unique(train_labels_k))>1:\n",
    "                    centroids_k, labels_centroids_based = calculate_centroids_and_predict_validation_data(training_set,train_labels_k,validation_set)\n",
    "\n",
    "                else:\n",
    "                    labels_centroids_based = np.zeros(len(validation_set))\n",
    "\n",
    "                unique_valid_labels = list(range(k))\n",
    "                unique_centroid_labels = list(np.unique(train_labels_k))\n",
    "\n",
    "                true_positives, false_positives, true_negatives, false_negatives = get_confusion_matrix(valid_labels_k,labels_centroids_based,unique_valid_labels, unique_centroid_labels)\n",
    "                precision = get_precision(true_positives,false_positives)\n",
    "                recall = get_recall(true_positives, false_negatives)\n",
    "                f1 = get_F1_score(recall, precision)\n",
    "\n",
    "                true_F1_score_per_k[k] = f1 \n",
    "\n",
    "            return true_F1_score_per_k\n",
    "        else:\n",
    "            print(\"True labels for the training set not found..Please provide true labels!!\")\n",
    "    \n",
    "    elif combination_type == \"equal\":\n",
    "        print(\"Calculate F1 score based on training centroids assuming same number of clusters in both sets!\")\n",
    "        F1_score_per_k = {}\n",
    "        for k in k_clusters:\n",
    "            train_labels_k = train_labels[k]\n",
    "            valid_labels_k = valid_labels[k]\n",
    "\n",
    "            if k>1:\n",
    "                centroids_k, labels_centroids_based = calculate_centroids_and_predict_validation_data(training_set,train_labels_k,validation_set)\n",
    "\n",
    "            else:\n",
    "                labels_centroids_based = np.zeros(len(validation_set))\n",
    "\n",
    "            unique_valid_labels = list(range(k))\n",
    "            unique_centroid_labels = list(range(k))\n",
    "\n",
    "            true_positives, false_positives, true_negatives, false_negatives = get_confusion_matrix(valid_labels_k,labels_centroids_based,unique_valid_labels, unique_centroid_labels)\n",
    "            precision = get_precision(true_positives,false_positives)\n",
    "            recall = get_recall(true_positives, false_negatives)\n",
    "            f1 = get_F1_score(recall, precision)\n",
    "\n",
    "            F1_score_per_k[k] = f1 \n",
    "\n",
    "        return F1_score_per_k\n",
    "        \n",
    "        \n",
    "    elif combination_type == \"full\":\n",
    "        print(\"Calculate F1 score based on training centroids with full permutation of possible clusters in both sets!\")\n",
    "        F1_score_per_k_combination = {} \n",
    "        counter = 0\n",
    "        for k1k2 in product(k_clusters, repeat=2):\n",
    "            counter += 1\n",
    "            if counter%50 == 0:\n",
    "                print(\"Step:%d\" % counter)\n",
    "            train_labels_k = train_labels[k1k2[0]]\n",
    "            valid_labels_k = valid_labels[k1k2[1]]\n",
    "\n",
    "            if k1k2[0] >1:\n",
    "                centroids_k, labels_centroids_based = calculate_centroids_and_predict_validation_data(training_set,train_labels_k,validation_set)\n",
    "\n",
    "            else:\n",
    "                labels_centroids_based = np.zeros(len(validation_set))\n",
    "\n",
    "            unique_valid_labels = list(range(k1k2[1]))\n",
    "            unique_centroid_labels = list(range(k1k2[0]))\n",
    "\n",
    "            true_positives, false_positives, true_negatives, false_negatives = get_confusion_matrix(valid_labels_k,labels_centroids_based,unique_valid_labels, unique_centroid_labels)\n",
    "            precision = get_precision(true_positives,false_positives)\n",
    "            recall = get_recall(true_positives, false_negatives)\n",
    "            f1 = get_F1_score(recall, precision)\n",
    "\n",
    "            F1_score_per_k_combination[k1k2] = f1\n",
    "\n",
    "        return F1_score_per_k_combination\n",
    "    \n",
    "    elif combination_type == \"own\":\n",
    "        F1_score_per_k_combination = {} \n",
    "        for k1k2 in own_combinations:\n",
    "            train_labels_k = train_labels[k1k2[0]]\n",
    "            valid_labels_k = valid_labels[k1k2[1]]\n",
    "\n",
    "            if k1k2[0] >1:\n",
    "                centroids_k, labels_centroids_based = calculate_centroids_and_predict_validation_data(training_set,train_labels_k,validation_set)\n",
    "\n",
    "            else:\n",
    "                labels_centroids_based = np.zeros(len(validation_set))\n",
    "\n",
    "            unique_valid_labels = list(range(k1k2[1]))\n",
    "            unique_centroid_labels = list(range(k1k2[0]))\n",
    "\n",
    "            true_positives, false_positives, true_negatives, false_negatives = get_confusion_matrix(valid_labels_k,labels_centroids_based,unique_valid_labels, unique_centroid_labels)\n",
    "            precision = get_precision(true_positives,false_positives)\n",
    "            recall = get_recall(true_positives, false_negatives)\n",
    "            f1 = get_F1_score(recall, precision)\n",
    "\n",
    "            F1_score_per_k_combination[k1k2] = f1\n",
    "\n",
    "        return F1_score_per_k_combination\n",
    "            \n",
    "        "
   ]
  },
  {
   "cell_type": "markdown",
   "metadata": {},
   "source": [
    "## Spectral Clustering Configuration "
   ]
  },
  {
   "cell_type": "code",
   "execution_count": 8,
   "metadata": {},
   "outputs": [],
   "source": [
    "k = 5\n",
    "reg = None\n",
    "\n",
    "clear_prediction_strength_dir = \"Toy_data/Clearly_Separated/Prediction_Strength/\"\n",
    "ambig_prediction_strength_dir = \"Toy_data/Ambiguous/Ambiguous_Tau_Amplitude/Prediction_Strength/\""
   ]
  },
  {
   "cell_type": "markdown",
   "metadata": {},
   "source": [
    "## Load labels"
   ]
  },
  {
   "cell_type": "code",
   "execution_count": 10,
   "metadata": {},
   "outputs": [],
   "source": [
    "clear_training_set_labels = np.load(clear_prediction_strength_dir + \"Labels/labels_k=%d_reg=%s_training.npy\" % (k, str(reg)))\n",
    "clear_validation_set_labels = np.load(clear_prediction_strength_dir + \"Labels/labels_k=%d_reg=%s_validation.npy\" % (k, str(reg)))\n",
    "\n",
    "ambig_training_set_labels = np.load(ambig_prediction_strength_dir + \"Labels/labels_k=%d_reg=%s_training.npy\" % (k, str(reg)))\n",
    "ambig_validation_set_labels = np.load(ambig_prediction_strength_dir + \"Labels/labels_k=%d_reg=%s_validation.npy\" % (k, str(reg)))\n",
    "\n",
    "\n",
    "clear_train_labels = {}\n",
    "clear_valid_labels = {}\n",
    "for i, labels in enumerate(clear_training_set_labels):\n",
    "    clear_train_labels[i+1] = labels\n",
    "    clear_valid_labels[i+1] = clear_validation_set_labels[i]\n",
    "    \n",
    "ambig_train_labels = {}\n",
    "ambig_valid_labels = {}\n",
    "for i, labels in enumerate(ambig_training_set_labels):\n",
    "    ambig_train_labels[i+1] = labels\n",
    "    ambig_valid_labels[i+1] = ambig_validation_set_labels[i]"
   ]
  },
  {
   "cell_type": "markdown",
   "metadata": {},
   "source": [
    "## F1 Score & Prediction Strength"
   ]
  },
  {
   "cell_type": "markdown",
   "metadata": {},
   "source": [
    "### Clear Data"
   ]
  },
  {
   "cell_type": "code",
   "execution_count": 11,
   "metadata": {},
   "outputs": [
    {
     "name": "stdout",
     "output_type": "stream",
     "text": [
      "Calculate F1 score based on true training centroids!\n"
     ]
    }
   ],
   "source": [
    "clear_F1_score_per_k = get_F1_score_per_k(clear_data, clear_train_fold_indices[0], clear_train_fold_indices[1], clear_train_labels, clear_valid_labels, combination_type = \"true\" ,true_train_labels = clear_true_labels_training)"
   ]
  },
  {
   "cell_type": "code",
   "execution_count": 12,
   "metadata": {},
   "outputs": [
    {
     "name": "stdout",
     "output_type": "stream",
     "text": [
      "Calculate Predictions Strength per Cluster for each Clustering!\n"
     ]
    }
   ],
   "source": [
    "clear_prediction_strengths_per_k,_ = prediction_strength.get_prediction_strength_per_k(clear_data, clear_train_fold_indices[0], clear_train_fold_indices[1], clear_train_labels, clear_valid_labels, per_sample = False, true_train_labels = clear_true_labels_training)"
   ]
  },
  {
   "cell_type": "markdown",
   "metadata": {},
   "source": [
    "### Ambiguous Data"
   ]
  },
  {
   "cell_type": "code",
   "execution_count": null,
   "metadata": {},
   "outputs": [],
   "source": [
    "ambig_F1_score_per_k = get_F1_score_per_k(ambig_data, ambig_train_fold_indices[0], ambig_train_fold_indices[1], ambig_train_labels, ambig_valid_labels,combination_type = \"true\" ,true_train_labels = ambig_true_labels_training)"
   ]
  },
  {
   "cell_type": "code",
   "execution_count": null,
   "metadata": {},
   "outputs": [],
   "source": [
    "ambig_prediction_strengths_per_k,_ = prediction_strength.get_prediction_strength_per_k(ambig_data, ambig_train_fold_indices[0], ambig_train_fold_indices[1], ambig_train_labels, ambig_valid_labels, per_sample = False, true_train_labels = ambig_true_labels_training)"
   ]
  },
  {
   "cell_type": "markdown",
   "metadata": {},
   "source": [
    "## Plot Mean Prediction Strength vs. F1 Score"
   ]
  },
  {
   "cell_type": "code",
   "execution_count": 13,
   "metadata": {},
   "outputs": [],
   "source": [
    "figsize=(20,10)\n",
    "plot_adjustments = [0.05,0.08,0.95, 0.91]\n",
    "configuration = \"k=%d - reg=%s\" % (k,str(reg))"
   ]
  },
  {
   "cell_type": "code",
   "execution_count": 14,
   "metadata": {},
   "outputs": [],
   "source": [
    "prediction_strengths_per_k = clear_prediction_strengths_per_k\n",
    "F1_score_per_k = clear_F1_score_per_k"
   ]
  },
  {
   "cell_type": "code",
   "execution_count": 28,
   "metadata": {},
   "outputs": [],
   "source": [
    "fig, ax = plt.subplots(figsize=figsize)\n",
    "\n",
    "k_clusters = list(prediction_strengths_per_k.keys())\n",
    "\n",
    "mean_prediction_strengths = []\n",
    "err_prediction_strengths = []\n",
    "min_prediction_strengths = []\n",
    "F1_scores = []\n",
    "\n",
    "for k in k_clusters:\n",
    "    mean_prediction_strengths.append(np.mean(prediction_strengths_per_k[k]))\n",
    "    err_prediction_strengths.append(np.std(prediction_strengths_per_k[k]))\n",
    "    min_prediction_strengths.append(np.amin(prediction_strengths_per_k[k]))\n",
    "    F1_scores.append(F1_score_per_k[k])\n",
    "\n",
    "\n",
    "upper_err = np.asarray(err_prediction_strengths) - np.maximum(0,(np.asarray(err_prediction_strengths)+np.asarray(mean_prediction_strengths)-1))\n",
    "lower_err = np.asarray(err_prediction_strengths)\n",
    "err = np.stack((lower_err,upper_err), axis=0)\n",
    "\n",
    "ax.plot(k_clusters, F1_scores, \"o-\", label=\"F1-Scores\",color = \"C03\")\n",
    "ax.plot(k_clusters, mean_prediction_strengths, \"o-\",label=\"Mean PS\",color = \"C0\")\n",
    "#ax.errorbar(k_clusters, mean_prediction_strengths, yerr=err,fmt='-',ecolor='lightgray', elinewidth=3,color = \"C0\")\n",
    "ax.plot(k_clusters, min_prediction_strengths, \"o-\", color = \"C01\", label=\"Min PS\")\n",
    "\n",
    "argmax_f1 = np.argmax(F1_scores)\n",
    "argmax_mean_ps = np.argmax(mean_prediction_strengths[1:]) +1\n",
    "argmax_min_ps = np.argmax(min_prediction_strengths[1:])+1\n",
    "\n",
    "\n",
    "if np.abs(argmax_mean_ps-argmax_f1) <6:\n",
    "    if F1_scores[argmax_f1] <= mean_prediction_strengths[argmax_mean_ps]:\n",
    "        ps_shift = 0.03\n",
    "        f1_shift = 0\n",
    "    else:\n",
    "        ps_shift = 0\n",
    "        f1_shift = 0.03\n",
    "else:\n",
    "    ps_shift = 0\n",
    "    f1_shift = 0\n",
    "\n",
    "ax.annotate(\"%d Clusters: %.3f\" % (argmax_mean_ps+1, mean_prediction_strengths[argmax_mean_ps]), (k_clusters[argmax_mean_ps] - 1, mean_prediction_strengths[argmax_mean_ps] + 0.03 + ps_shift),fontsize = 14, color = \"C0\")\n",
    "ax.annotate(\"%d Clusters: %.3f\" % (argmax_f1+1, F1_scores[argmax_f1]), (k_clusters[argmax_f1] - 1, F1_scores[argmax_f1] + 0.03 + f1_shift), fontsize=14, color = \"C03\")\n",
    "ax.annotate(\"%d Clusters: %.3f\" % (argmax_min_ps+1, min_prediction_strengths[argmax_min_ps]), (k_clusters[argmax_min_ps] - 1, min_prediction_strengths[argmax_min_ps] + 0.03), fontsize=14, color = \"C01\")\n",
    "\n",
    "title = \"Prediction Strength vs. F1-Score for Clustering with k Clusters \\n\" + configuration \n",
    "\n",
    "ax.set_title(title, fontsize=22, pad=20)\n",
    "ax.set_xticks(k_clusters)\n",
    "ax.set_xlabel(\"Number of clusters\", fontsize=16, labelpad=10)\n",
    "ax.set_ylabel(\"Score\", fontsize=16, labelpad=10),\n",
    "ax.set_ylim((0, 1.1))\n",
    "ax.tick_params(axis='y',labelsize=12)\n",
    "ax.tick_params(axis='x',labelsize=12)\n",
    "\n",
    "ax.set_yticks(np.arange(0, 1.1,0.1))\n",
    "left = plot_adjustments[0]\n",
    "bottom = plot_adjustments[1]\n",
    "right = plot_adjustments[2]\n",
    "top = plot_adjustments[3]\n",
    "\n",
    "plt.subplots_adjust(left,bottom,right, top)\n",
    "\n",
    "ax.legend(fontsize = 14, loc=\"upper right\",bbox_to_anchor=(1.005, 1.12))\n",
    "\n",
    "plt.savefig(\"test.pdf\")\n",
    "plt.close()"
   ]
  },
  {
   "cell_type": "code",
   "execution_count": 27,
   "metadata": {},
   "outputs": [
    {
     "data": {
      "text/plain": [
       "1"
      ]
     },
     "execution_count": 27,
     "metadata": {},
     "output_type": "execute_result"
    }
   ],
   "source": [
    "np.abs(2-3)"
   ]
  },
  {
   "cell_type": "code",
   "execution_count": 95,
   "metadata": {},
   "outputs": [],
   "source": [
    "own_combinations = list(product([8,9,10,11,12,13,14], repeat=2))"
   ]
  },
  {
   "cell_type": "code",
   "execution_count": 96,
   "metadata": {},
   "outputs": [],
   "source": [
    "F1_score_per_k = get_F1_score_per_k(data, train_fold_indices[0], train_fold_indices[1], train_labels, valid_labels,combination_type = \"own\" ,own_combinations = own_combinations)"
   ]
  },
  {
   "cell_type": "code",
   "execution_count": 101,
   "metadata": {},
   "outputs": [
    {
     "data": {
      "text/plain": [
       "{(8, 8): 0.6398728741897797,\n",
       " (8, 9): 0.6523157422484107,\n",
       " (8, 10): 0.747866441051456,\n",
       " (8, 11): 0.7676779124301703,\n",
       " (8, 12): 0.7643628278290526,\n",
       " (8, 13): 0.7561196701895473,\n",
       " (8, 14): 0.7517187506416196,\n",
       " (9, 8): 0.6206285457021343,\n",
       " (9, 9): 0.6348035795466058,\n",
       " (9, 10): 0.54128442367322,\n",
       " (9, 11): 0.561106675340261,\n",
       " (9, 12): 0.5566062570062832,\n",
       " (9, 13): 0.5430555708250097,\n",
       " (9, 14): 0.5369686305500886,\n",
       " (10, 8): 0.6586809967770928,\n",
       " (10, 9): 0.6740591614866355,\n",
       " (10, 10): 0.8230800217314856,\n",
       " (10, 11): 0.8504598894390333,\n",
       " (10, 12): 0.8465166780851942,\n",
       " (10, 13): 0.8306834166226942,\n",
       " (10, 14): 0.825293948204031,\n",
       " (11, 8): 0.6611515311436493,\n",
       " (11, 9): 0.6769921408954339,\n",
       " (11, 10): 0.8286083600749147,\n",
       " (11, 11): 0.856079256417438,\n",
       " (11, 12): 0.8542812373582425,\n",
       " (11, 13): 0.8382913727952211,\n",
       " (11, 14): 0.8328617080469184,\n",
       " (12, 8): 0.5921517504884093,\n",
       " (12, 9): 0.607038716831298,\n",
       " (12, 10): 0.7748125031675737,\n",
       " (12, 11): 0.8052822141267895,\n",
       " (12, 12): 0.8032479813523717,\n",
       " (12, 13): 0.7814021304738048,\n",
       " (12, 14): 0.7753887565363575,\n",
       " (13, 8): 0.5959305003952147,\n",
       " (13, 9): 0.6111247368242722,\n",
       " (13, 10): 0.797562493812477,\n",
       " (13, 11): 0.829356460632175,\n",
       " (13, 12): 0.8265452460095191,\n",
       " (13, 13): 0.8568527626991838,\n",
       " (13, 14): 0.851022068341163,\n",
       " (14, 8): 0.5937006777411005,\n",
       " (14, 9): 0.6082966550460939,\n",
       " (14, 10): 0.7950570396707787,\n",
       " (14, 11): 0.8260682846067443,\n",
       " (14, 12): 0.8274486466799679,\n",
       " (14, 13): 0.8578706265883199,\n",
       " (14, 14): 0.8520278451524332}"
      ]
     },
     "execution_count": 101,
     "metadata": {},
     "output_type": "execute_result"
    }
   ],
   "source": [
    "F1_score_per_k"
   ]
  },
  {
   "cell_type": "code",
   "execution_count": 110,
   "metadata": {},
   "outputs": [],
   "source": [
    "argmax = np.argmax(list(F1_score_per_k.values()))"
   ]
  },
  {
   "cell_type": "code",
   "execution_count": 113,
   "metadata": {},
   "outputs": [],
   "source": [
    "combination = np.asarray(list(F1_score_per_k.keys()))[argmax]\n",
    "f1_score = np.asarray(list(F1_score_per_k.values()))[argmax]"
   ]
  },
  {
   "cell_type": "code",
   "execution_count": 114,
   "metadata": {},
   "outputs": [
    {
     "data": {
      "text/plain": [
       "47"
      ]
     },
     "execution_count": 114,
     "metadata": {},
     "output_type": "execute_result"
    }
   ],
   "source": [
    "combination"
   ]
  },
  {
   "cell_type": "code",
   "execution_count": 120,
   "metadata": {},
   "outputs": [
    {
     "data": {
      "text/plain": [
       "0.31849359707172603"
      ]
     },
     "execution_count": 120,
     "metadata": {},
     "output_type": "execute_result"
    }
   ],
   "source": [
    "F1_score_per_k[12]"
   ]
  },
  {
   "cell_type": "code",
   "execution_count": 115,
   "metadata": {},
   "outputs": [
    {
     "data": {
      "text/plain": [
       "0.6195245612672132"
      ]
     },
     "execution_count": 115,
     "metadata": {},
     "output_type": "execute_result"
    }
   ],
   "source": [
    "f1_score"
   ]
  }
 ],
 "metadata": {
  "kernelspec": {
   "display_name": "Python 3",
   "language": "python",
   "name": "python3"
  },
  "language_info": {
   "codemirror_mode": {
    "name": "ipython",
    "version": 3
   },
   "file_extension": ".py",
   "mimetype": "text/x-python",
   "name": "python",
   "nbconvert_exporter": "python",
   "pygments_lexer": "ipython3",
   "version": "3.7.7"
  }
 },
 "nbformat": 4,
 "nbformat_minor": 4
}
