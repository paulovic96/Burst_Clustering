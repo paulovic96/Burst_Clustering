{
 "cells": [
  {
   "cell_type": "code",
   "execution_count": 1,
   "metadata": {},
   "outputs": [
    {
     "name": "stderr",
     "output_type": "stream",
     "text": [
      "/Users/paule/anaconda3/envs/bon17/lib/python3.7/site-packages/sklearn/utils/deprecation.py:144: FutureWarning: The sklearn.neighbors.nearest_centroid module is  deprecated in version 0.22 and will be removed in version 0.24. The corresponding classes / functions should instead be imported from sklearn.neighbors. Anything that cannot be imported from sklearn.neighbors is now part of the private API.\n",
      "  warnings.warn(message, FutureWarning)\n"
     ]
    }
   ],
   "source": [
    "import numpy as np\n",
    "from spectral_clustering import spectral_clustering\n",
    "import functions_for_plotting\n",
    "from asymmetric_laplacian_distribution import get_index_per_class, get_labels, labels_to_layout_mapping\n",
    "from sklearn.cluster import KMeans\n",
    "import training_set_split\n",
    "import seaborn as sns\n",
    "import prediction_strength\n",
    "import importlib\n",
    "import matplotlib.pyplot as plt\n",
    "from prediction_strength import get_F1_score_per_k"
   ]
  },
  {
   "cell_type": "code",
   "execution_count": 2,
   "metadata": {},
   "outputs": [],
   "source": [
    "noise_dict = \"Noise_Analysis/F1_scores/Cleary_Seperable_Noise=[0,1]/\""
   ]
  },
  {
   "cell_type": "code",
   "execution_count": 3,
   "metadata": {},
   "outputs": [],
   "source": [
    "files = [noise_dict + \"F1_k=Full_clear_Noise=[0,1]_SSIM_weighting=True.npy\",noise_dict + \"F1_k=10_clear_Noise=[0,1]_SSIM_weighting=True.npy\", noise_dict + \"F1_k=10_clear_Noise=[0,1]_Euclidean.npy\",noise_dict + \"F1_k=Full_clear_Noise=[0,1]_SSIM_RAW_weighting=True.npy\",noise_dict +\"F1_k=10_clear_Noise=[0,1]_SSIM_RAW_weighting=True.npy\"]"
   ]
  },
  {
   "cell_type": "code",
   "execution_count": 28,
   "metadata": {},
   "outputs": [],
   "source": [
    "files = [\"F1_k=Full_ambig_SSIM_weighting=True.npy\",\"F1_k=10_ambig_SSIM_weighting=True.npy\",\"F1_k=10_ambig_Euclidean.npy\",\"F1_k=Full_ambig_SSIM_RAW_weighting=True.npy\"]"
   ]
  },
  {
   "cell_type": "code",
   "execution_count": 4,
   "metadata": {},
   "outputs": [],
   "source": [
    "F1_scores_clear_clusters = {}\n",
    "keys = [\"SSIM/K=Full\",\"SSIM/K=10\",\"Euclidean/K=10\", \"SSIM_RAW/K=Full\",\"SSIM_RAW/K=10\"]\n",
    "for f,file in enumerate(files): \n",
    "    f1_dict = np.load(file,allow_pickle=True).item()\n",
    "    k_clusters = list(f1_dict.keys())\n",
    "    F1_scores = []\n",
    "    for i in k_clusters:\n",
    "        #mean_prediction_strengths.append(np.mean(prediction_strengths_per_k[k]))\n",
    "        #err_prediction_strengths.append(np.std(prediction_strengths_per_k[k]))\n",
    "        #min_prediction_strengths.append(np.amin(prediction_strengths_per_k[k]))\n",
    "        F1_scores.append(f1_dict[i])\n",
    "    F1_scores_clear_clusters[keys[f]] = F1_scores"
   ]
  },
  {
   "cell_type": "code",
   "execution_count": 5,
   "metadata": {},
   "outputs": [],
   "source": [
    "figsize=(20,10)\n",
    "plot_adjustments = [0.05,0.08,0.95, 0.91]\n",
    "save_file = \"F1_scores_metric_comparison_clear_dataset_noise=[0,1].pdf\""
   ]
  },
  {
   "cell_type": "code",
   "execution_count": 6,
   "metadata": {},
   "outputs": [],
   "source": [
    "fig, ax = plt.subplots(figsize=figsize)\n",
    "k_clusters = range(1,50)\n",
    "for i,key in enumerate(keys):\n",
    "    F1_scores = F1_scores_clear_clusters[key]\n",
    "    ax.plot(k_clusters, F1_scores, \"o-\", label=key, color = \"C0%d\" % i,linewidth=3)\n",
    "\n",
    "    argmax_f1 = np.argmax(F1_scores[1:]) + 1\n",
    "\n",
    "    ax.annotate(\"#%d|Score=%.3f\" % (argmax_f1+1, F1_scores[argmax_f1]), (k_clusters[argmax_f1] - 1, F1_scores[argmax_f1] + 0.03 - i*0.03), fontsize=16, color = \"C0%d\" % i)\n",
    "\n",
    "\n",
    "title = \"F1-Score of Clear Clusters with equal Noise (var=1)\"  \n",
    "\n",
    "ax.set_title(title, fontsize=22, pad=20)\n",
    "ax.set_xticks(k_clusters)\n",
    "ax.set_xlabel(\"# Number of clusters\", fontsize=18, labelpad=10)\n",
    "ax.set_ylabel(\"F1-Score\", fontsize=18, labelpad=10),\n",
    "ax.set_ylim((0, 1.1))\n",
    "ax.tick_params(axis='y',labelsize=14)\n",
    "ax.tick_params(axis='x',labelsize=14)\n",
    "\n",
    "ax.set_yticks(np.arange(0, 1.1,0.1))\n",
    "left = plot_adjustments[0]\n",
    "bottom = plot_adjustments[1]\n",
    "right = plot_adjustments[2]\n",
    "top = plot_adjustments[3]\n",
    "\n",
    "plt.subplots_adjust(left,bottom,right, top)\n",
    "\n",
    "ax.legend(fontsize = 14, loc=\"lower right\")\n",
    "\n",
    "plt.savefig(save_file)\n",
    "plt.close()"
   ]
  }
 ],
 "metadata": {
  "kernelspec": {
   "display_name": "Python 3",
   "language": "python",
   "name": "python3"
  },
  "language_info": {
   "codemirror_mode": {
    "name": "ipython",
    "version": 3
   },
   "file_extension": ".py",
   "mimetype": "text/x-python",
   "name": "python",
   "nbconvert_exporter": "python",
   "pygments_lexer": "ipython3",
   "version": "3.7.7"
  }
 },
 "nbformat": 4,
 "nbformat_minor": 4
}
