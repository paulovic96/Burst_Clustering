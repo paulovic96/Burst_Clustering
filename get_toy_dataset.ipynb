{
 "cells": [
  {
   "cell_type": "code",
   "execution_count": null,
   "metadata": {},
   "outputs": [],
   "source": [
    "import os\n",
    "import numpy as np\n",
    "from spectral_clustering import spectral_clustering\n",
    "import seaborn as sns\n",
    "import functions_for_plotting\n",
    "from asymmetric_laplacian_distribution import get_index_per_class, get_labels, labels_to_layout_mapping\n",
    "from sklearn.cluster import KMeans\n",
    "import training_set_split\n",
    "import seaborn as sns\n",
    "import prediction_strength\n",
    "import importlib\n",
    "import matplotlib.pyplot as plt\n",
    "from prediction_strength import get_F1_score_per_k\n",
    "from matplotlib.legend import Legend\n",
    "from training_set_split import get_training_folds\n",
    "import wagenaar_dataset"
   ]
  },
  {
   "cell_type": "markdown",
   "metadata": {},
   "source": [
    "# Toy Dataset"
   ]
  },
  {
   "cell_type": "markdown",
   "metadata": {},
   "source": [
    "## Tiny Burst Overloaded Wagenaar Data inspired "
   ]
  },
  {
   "cell_type": "code",
   "execution_count": null,
   "metadata": {},
   "outputs": [],
   "source": [
    "data_dir = \"data/raw_data/daily_spontanous_dense/day20/\"\n",
    "day20_data = np.load(data_dir + \"data_burst_by_time_day_20.npy\").T"
   ]
  },
  {
   "cell_type": "markdown",
   "metadata": {},
   "source": [
    "### Parameter"
   ]
  },
  {
   "cell_type": "code",
   "execution_count": null,
   "metadata": {},
   "outputs": [],
   "source": [
    "TIME_RANGE = [0, day20_data.shape[1]]\n",
    "EQUAL_NOISE = [0, 0.2]\n",
    "NOISE_TYPE = \"gaussian\"\n",
    "USE_EQUAL_NOISE = True\n",
    "\n",
    "AMPLITUDE_CONDITIONS = [\"S\", \"M\", \"L\"]\n",
    "TIME_CONSTANT_CONDITIONS = [\"equal_sharp\", \"equal_wide\", \"wide_sharp_negative_skew\", \"sharp_wide_positive_skew\"]\n",
    "AMBIGUOUS_CONDITIONS = []\n",
    "SAMPLES_PER_AMBIGUOUS_CONDITION = 0\n",
    "MU = day20_data.shape[1]/2"
   ]
  },
  {
   "cell_type": "code",
   "execution_count": null,
   "metadata": {},
   "outputs": [],
   "source": [
    "n_tiny_bursts_in_real_data = len(np.where(np.amax(day20_data,axis=1) <= 1)[0])\n",
    "n_non_tiny_bursts_in_real_data = len(day20_data) - n_tiny_bursts_in_real_data"
   ]
  },
  {
   "cell_type": "code",
   "execution_count": null,
   "metadata": {},
   "outputs": [],
   "source": [
    "print(\"Tiny Bursts: \", n_tiny_bursts_in_real_data)\n",
    "print(\"Non-Tiny Bursts: \", n_non_tiny_bursts_in_real_data)"
   ]
  },
  {
   "cell_type": "markdown",
   "metadata": {},
   "source": [
    "### Uniformly sample the tiny burst conditions"
   ]
  },
  {
   "cell_type": "code",
   "execution_count": null,
   "metadata": {},
   "outputs": [],
   "source": [
    "np.random.seed(42)\n",
    "tiny_burst_conditions = np.random.multinomial(n_tiny_bursts_in_real_data, [1/4.]*4, size=1)[0]\n",
    "non_tiny_burst_conditions =  np.random.multinomial(n_non_tiny_bursts_in_real_data, [1/8.]*8, size=1)[0]"
   ]
  },
  {
   "cell_type": "code",
   "execution_count": null,
   "metadata": {},
   "outputs": [],
   "source": [
    "print(\"Tiny burst #/condition:\", tiny_burst_conditions)\n",
    "print(\"Non-Tiny burst #/condition:\", non_tiny_burst_conditions)"
   ]
  },
  {
   "cell_type": "code",
   "execution_count": null,
   "metadata": {},
   "outputs": [],
   "source": [
    "SAMPLES_PER_CONDITION = list(tiny_burst_conditions) + list(non_tiny_burst_conditions)\n",
    "print(SAMPLES_PER_CONDITION)"
   ]
  },
  {
   "cell_type": "code",
   "execution_count": null,
   "metadata": {},
   "outputs": [],
   "source": [
    "F_signal, F_signal_noise, noises, param_data = generate_ALF_data(X, AMPLITUDE_CONDITIONS, \n",
    "                                                                 TIME_CONSTANT_CONDITIONS,\n",
    "                                                                 AMBIGUOUS_CONDITIONS, \n",
    "                                                                 SAMPLES_PER_CONDITION,\n",
    "                                                                 SAMPLES_PER_AMBIGUOUS_CONDITION,MU, \n",
    "                                                                 noise_type = NOISE_TYPE, \n",
    "                                                                 equal_noise = USE_EQUAL_NOISE)"
   ]
  },
  {
   "cell_type": "code",
   "execution_count": null,
   "metadata": {},
   "outputs": [],
   "source": [
    "#param_data.to_csv( \"clear_data_equal_noise=[0,0.2]_tiny_burst_overload_non_tiny_upsampled\" + \"_parameter\" + \".csv\",index=False)\n",
    "#np.save(\"clear_data_equal_noise=[0,0.2]_tiny_burst_overload_non_tiny_upsampled\" + \"_F_signal\",F_signal)\n",
    "#np.save(\"clear_data_equal_noise=[0,0.2]_tiny_burst_overload_non_tiny_upsampled\" + \"_F_signal_noise\", F_signal_noise)"
   ]
  },
  {
   "cell_type": "code",
   "execution_count": null,
   "metadata": {},
   "outputs": [],
   "source": [
    "data = np.load(\"clear_data_equal_noise=[0,0.2]_tiny_burst_overload_F_signal_noise.npy\")\n",
    "class_dict = get_index_per_class(AMPLITUDE_CONDITIONS, TIME_CONSTANT_CONDITIONS, \n",
    "                                 AMBIGUOUS_CONDITIONS, SAMPLES_PER_CONDITION, \n",
    "                                 SAMPLES_PER_AMBIGUOUS_CONDITION)\n",
    "true_labels = get_labels(data, class_dict)"
   ]
  },
  {
   "cell_type": "markdown",
   "metadata": {},
   "source": [
    "# Plot examples"
   ]
  },
  {
   "cell_type": "code",
   "execution_count": null,
   "metadata": {},
   "outputs": [],
   "source": [
    "clear_clusters_ordered = list(range(0,len(class_dict)+1))\n",
    "layout_mapping = labels_to_layout_mapping(clear_clusters_ordered, 4, (1,4))"
   ]
  },
  {
   "cell_type": "code",
   "execution_count": null,
   "metadata": {},
   "outputs": [],
   "source": [
    "rows = 3\n",
    "columns = 4\n",
    "figsize = (20,20)\n",
    "subplot_adjustments = [0.05,0.95,0.03,0.9,0.4, 0.15]\n",
    "title = \"\"\n",
    "save_file_clusters=\"test.pdf\""
   ]
  },
  {
   "cell_type": "code",
   "execution_count": null,
   "metadata": {},
   "outputs": [],
   "source": [
    "functions_for_plotting.plot_clusters(data, # the dataset \n",
    "                                     true_labels, # the true labels for the dataset \n",
    "                                     true_labels,  # the clustered labels \n",
    "                                     rows, # the number of rows in the grid \n",
    "                                     columns, # the number of columns in the grid \n",
    "                                     layout_mapping, # our layout mapping \n",
    "                                     figsize=figsize, # the figsize\n",
    "                                     n_bursts = 100, # the number of bursts you want to plot for each cluster \n",
    "                                     y_lim = (0,16), # the y_lim\n",
    "                                     save_file=save_file_clusters, # the file you want to save the plot \n",
    "                                     subplot_adjustments= subplot_adjustments, # adjustments for suplots and overall spacing (tricky) \n",
    "                                     plot_mean=True, # plot the mean of each cluster ? \n",
    "                                     title= title) # title of the plots"
   ]
  }
 ],
 "metadata": {
  "kernelspec": {
   "display_name": "Python 3",
   "language": "python",
   "name": "python3"
  },
  "language_info": {
   "codemirror_mode": {
    "name": "ipython",
    "version": 3
   },
   "file_extension": ".py",
   "mimetype": "text/x-python",
   "name": "python",
   "nbconvert_exporter": "python",
   "pygments_lexer": "ipython3",
   "version": "3.7.7"
  }
 },
 "nbformat": 4,
 "nbformat_minor": 4
}
